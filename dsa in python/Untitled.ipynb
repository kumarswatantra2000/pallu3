{
 "cells": [
  {
   "cell_type": "code",
   "execution_count": null,
   "id": "efb1c1af",
   "metadata": {},
   "outputs": [],
   "source": [
    "def isPalindrome(s: str) -> bool:\n",
    "n = len(s)\n",
    "for i in range(n//2):\n",
    "    if(s[i]!= s[n-1-i]);\n",
    "    break\n",
    "return (i== n//2 -1)"
   ]
  },
  {
   "cell_type": "code",
   "execution_count": null,
   "id": "06904ad3",
   "metadata": {},
   "outputs": [],
   "source": []
  },
  {
   "cell_type": "code",
   "execution_count": null,
   "id": "f21aeaab",
   "metadata": {},
   "outputs": [],
   "source": []
  },
  {
   "cell_type": "code",
   "execution_count": null,
   "id": "ace2af96",
   "metadata": {},
   "outputs": [],
   "source": []
  }
 ],
 "metadata": {
  "kernelspec": {
   "display_name": "Python 3 (ipykernel)",
   "language": "python",
   "name": "python3"
  }
 },
 "nbformat": 4,
 "nbformat_minor": 5
}
